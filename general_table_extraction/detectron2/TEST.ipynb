{
 "cells": [
  {
   "cell_type": "code",
   "execution_count": 1,
   "id": "ca030a87",
   "metadata": {},
   "outputs": [
    {
     "ename": "ModuleNotFoundError",
     "evalue": "No module named 'main'",
     "output_type": "error",
     "traceback": [
      "\u001b[0;31m---------------------------------------------------------------------------\u001b[0m",
      "\u001b[0;31mModuleNotFoundError\u001b[0m                       Traceback (most recent call last)",
      "\u001b[0;32m/var/folders/bh/mzl5wlq93fz2y1rfk52d88q80000gn/T/ipykernel_89635/3621918766.py\u001b[0m in \u001b[0;36m<module>\u001b[0;34m\u001b[0m\n\u001b[0;32m----> 1\u001b[0;31m \u001b[0;32mfrom\u001b[0m \u001b[0mmain\u001b[0m \u001b[0;32mimport\u001b[0m \u001b[0;34m*\u001b[0m\u001b[0;34m\u001b[0m\u001b[0;34m\u001b[0m\u001b[0m\n\u001b[0m",
      "\u001b[0;31mModuleNotFoundError\u001b[0m: No module named 'main'"
     ]
    }
   ],
   "source": [
    "from main import *"
   ]
  },
  {
   "cell_type": "code",
   "execution_count": null,
   "id": "049b596f",
   "metadata": {},
   "outputs": [],
   "source": [
    "import fvcore"
   ]
  },
  {
   "cell_type": "code",
   "execution_count": null,
   "id": "fd3deb05",
   "metadata": {},
   "outputs": [],
   "source": [
    "TEST_INFO = {\n",
    "#    'PERSTA_Environmental,SocialandGovernanceReport2020.pdf':[21],\n",
    "#     '中信資源_2020ENVIRONMENTAL,SOCIALANDGOVERNANCEREPORT.pdf':[79,80,81,82],\n",
    "#     '中國海洋石油_2020Environmental,SocialandGovernanceReport.pdf':[47],\n",
    "#     '中國石油化工股份_2020SinopecCorp.SustainabilityReport.pdf':[43,44],\n",
    "#     '中國石油股份_2020ENVIRONMENTAL,SOCIALANDGOVERNANCEREPORT.pdf':[75],\n",
    "#     '中國神華_2020Environmental,ResponsibilityandGovernanceReport.pdf':[95,96,97],\n",
    "#     '中煤能源_ChinaCoalEnergyCSRReport2020.pdf':[25],\n",
    "#     '中石化煉化工程_2020Environmental,SocialandGovernanceReport.pdf':[26],\n",
    "#     '中能控股_Environmental,SocialandGovernanceReport2020.pdf':[33,34],\n",
    "     '元亨燃氣_Environmental,socialandgovernancereport2020_21.pdf':[17,18],\n",
    "#     '兗煤澳大利亞_ESGReport2020.pdf':[31,32],\n",
    "#     '兗礦能源_SocialResponsibilityReport2020OfYanzhouCoalMiningCompanyLimited.pdf':[72,73],\n",
    "#     '匯力資源_2020Environmental,SocialandGovernanceReport.pdf':[7,8,10],\n",
    "#     '南南資源_Environmental,SocialandGovernanceReport2020_21.pdf':[32],\n",
    "#     '安東油田服務_2020SUSTAINABILITYREPORT.pdf':[25],\n",
    "#     '山東墨龍_2020Environmental,SocialandGovernanceReport.pdf':[23],\n",
    "#     '巨濤海洋石油服務_Environmental,SocialandGovernanceReport2020.pdf':[19],\n",
    "#     '延長石油國際_ENVIRONMENTAL,SOCIALANDGOVERNANCEREPORT2020.pdf':[10,12,15,16],\n",
    "#     '新海能源_Environmental,SocialandGovernanceReportforYear2020.pdf':[38],\n",
    "#     '易大宗_Environmental,SocialandGovernanceReport2020.pdf':[33,34,35,36],\n",
    "#     '海隆控股_2020Environmental,SocialandGovernanceReport.pdf':[37,38,39,40,41],\n",
    "#     '西伯利亞礦業_Environmental,SocialandGovernanceReport2020.pdf':[4,5,6],\n",
    "#     '西伯利亞礦業_Environmental,SocialandGovernanceReport2021.pdf':[4,5,6],\n",
    "#     '金泰能源控股_Environmental,SocialandGovernanceReport2020.pdf':[6,7],\n",
    "#     '陽光油砂_2020Environmental,SocialandGovernanceReport.pdf':[8,9,10,11,13,14,15],\n",
    "#     '飛尚無煙煤_2020Environmental,SocialandGovernanceReport.pdf':[4,5],\n",
    "}"
   ]
  },
  {
   "cell_type": "code",
   "execution_count": null,
   "id": "a2fcd2be",
   "metadata": {},
   "outputs": [],
   "source": [
    "\n",
    "for filename, page_numbers in T\n",
    "results = main_func(TEST_INFO)"
   ]
  },
  {
   "cell_type": "code",
   "execution_count": null,
   "id": "f4980833",
   "metadata": {},
   "outputs": [],
   "source": [
    "len(results)"
   ]
  },
  {
   "cell_type": "code",
   "execution_count": null,
   "id": "e2c16f42",
   "metadata": {
    "scrolled": false
   },
   "outputs": [],
   "source": [
    "results"
   ]
  },
  {
   "cell_type": "code",
   "execution_count": null,
   "id": "36385c0a",
   "metadata": {},
   "outputs": [],
   "source": []
  }
 ],
 "metadata": {
  "kernelspec": {
   "display_name": "Python 3 (ipykernel)",
   "language": "python",
   "name": "python3"
  },
  "language_info": {
   "codemirror_mode": {
    "name": "ipython",
    "version": 3
   },
   "file_extension": ".py",
   "mimetype": "text/x-python",
   "name": "python",
   "nbconvert_exporter": "python",
   "pygments_lexer": "ipython3",
   "version": "3.9.7"
  }
 },
 "nbformat": 4,
 "nbformat_minor": 5
}
