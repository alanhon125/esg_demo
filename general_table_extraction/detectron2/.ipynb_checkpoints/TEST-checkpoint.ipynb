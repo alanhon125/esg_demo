{
 "cells": [
  {
   "cell_type": "code",
   "execution_count": 7,
   "id": "ade704f7",
   "metadata": {},
   "outputs": [],
   "source": [
    "from omegaconf import DictConfig, ListConfig, OmegaConf, SCMode"
   ]
  },
  {
   "cell_type": "code",
   "execution_count": 8,
   "id": "a032775e",
   "metadata": {},
   "outputs": [],
   "source": [
    "import omegaconf"
   ]
  },
  {
   "cell_type": "code",
   "execution_count": 11,
   "id": "0fffca7c",
   "metadata": {},
   "outputs": [],
   "source": [
    "from torch.ao.quantization import QuantStub, DeQuantStub"
   ]
  },
  {
   "cell_type": "code",
   "execution_count": 14,
   "id": "3df6c02a",
   "metadata": {},
   "outputs": [],
   "source": [
    "import torch"
   ]
  },
  {
   "cell_type": "code",
   "execution_count": 16,
   "id": "147729d5",
   "metadata": {},
   "outputs": [],
   "source": [
    "import pycocotools.mask as mask_util"
   ]
  },
  {
   "cell_type": "code",
   "execution_count": 17,
   "id": "44e5cb66",
   "metadata": {},
   "outputs": [],
   "source": [
    "import pycocotools"
   ]
  },
  {
   "cell_type": "code",
   "execution_count": 19,
   "id": "f1b63408",
   "metadata": {},
   "outputs": [
    {
     "ename": "AttributeError",
     "evalue": "module 'pycocotools' has no attribute '__version__'",
     "output_type": "error",
     "traceback": [
      "\u001b[0;31m---------------------------------------------------------------------------\u001b[0m",
      "\u001b[0;31mAttributeError\u001b[0m                            Traceback (most recent call last)",
      "\u001b[0;32m/var/folders/bh/mzl5wlq93fz2y1rfk52d88q80000gn/T/ipykernel_82963/1783746760.py\u001b[0m in \u001b[0;36m<module>\u001b[0;34m\u001b[0m\n\u001b[0;32m----> 1\u001b[0;31m \u001b[0mpycocotools\u001b[0m\u001b[0;34m.\u001b[0m\u001b[0m__version__\u001b[0m\u001b[0;34m\u001b[0m\u001b[0;34m\u001b[0m\u001b[0m\n\u001b[0m",
      "\u001b[0;31mAttributeError\u001b[0m: module 'pycocotools' has no attribute '__version__'"
     ]
    }
   ],
   "source": [
    "pycocotools.__version__"
   ]
  },
  {
   "cell_type": "code",
   "execution_count": 21,
   "id": "1029c56e",
   "metadata": {},
   "outputs": [],
   "source": [
    "import fairscale"
   ]
  },
  {
   "cell_type": "code",
   "execution_count": 22,
   "id": "93a923b7",
   "metadata": {},
   "outputs": [
    {
     "data": {
      "text/plain": [
       "'0.4.6'"
      ]
     },
     "execution_count": 22,
     "metadata": {},
     "output_type": "execute_result"
    }
   ],
   "source": [
    "fairscale.__version__"
   ]
  },
  {
   "cell_type": "code",
   "execution_count": 23,
   "id": "758b4441",
   "metadata": {},
   "outputs": [],
   "source": [
    "import timm"
   ]
  },
  {
   "cell_type": "code",
   "execution_count": 24,
   "id": "8fe98135",
   "metadata": {},
   "outputs": [
    {
     "data": {
      "text/plain": [
       "'0.6.5'"
      ]
     },
     "execution_count": 24,
     "metadata": {},
     "output_type": "execute_result"
    }
   ],
   "source": [
    "timm.__version__"
   ]
  },
  {
   "cell_type": "code",
   "execution_count": 25,
   "id": "0ae6e48b",
   "metadata": {},
   "outputs": [],
   "source": [
    "import pdf2image"
   ]
  },
  {
   "cell_type": "code",
   "execution_count": 26,
   "id": "87ae47f2",
   "metadata": {},
   "outputs": [
    {
     "ename": "AttributeError",
     "evalue": "module 'pdf2image' has no attribute '__version__'",
     "output_type": "error",
     "traceback": [
      "\u001b[0;31m---------------------------------------------------------------------------\u001b[0m",
      "\u001b[0;31mAttributeError\u001b[0m                            Traceback (most recent call last)",
      "\u001b[0;32m/var/folders/bh/mzl5wlq93fz2y1rfk52d88q80000gn/T/ipykernel_82963/142737708.py\u001b[0m in \u001b[0;36m<module>\u001b[0;34m\u001b[0m\n\u001b[0;32m----> 1\u001b[0;31m \u001b[0mpdf2image\u001b[0m\u001b[0;34m.\u001b[0m\u001b[0m__version__\u001b[0m\u001b[0;34m\u001b[0m\u001b[0;34m\u001b[0m\u001b[0m\n\u001b[0m",
      "\u001b[0;31mAttributeError\u001b[0m: module 'pdf2image' has no attribute '__version__'"
     ]
    }
   ],
   "source": [
    "pdf2image.__version__"
   ]
  },
  {
   "cell_type": "code",
   "execution_count": null,
   "id": "b92af512",
   "metadata": {},
   "outputs": [],
   "source": []
  },
  {
   "cell_type": "code",
   "execution_count": null,
   "id": "b4d2b6b0",
   "metadata": {},
   "outputs": [],
   "source": []
  },
  {
   "cell_type": "code",
   "execution_count": 15,
   "id": "f747f06f",
   "metadata": {},
   "outputs": [
    {
     "data": {
      "text/plain": [
       "'1.11.0'"
      ]
     },
     "execution_count": 15,
     "metadata": {},
     "output_type": "execute_result"
    }
   ],
   "source": [
    "torch.__version__"
   ]
  },
  {
   "cell_type": "code",
   "execution_count": 9,
   "id": "e49f7d70",
   "metadata": {},
   "outputs": [
    {
     "data": {
      "text/plain": [
       "'2.2.2'"
      ]
     },
     "execution_count": 9,
     "metadata": {},
     "output_type": "execute_result"
    }
   ],
   "source": [
    "omegaconf.__version__"
   ]
  },
  {
   "cell_type": "code",
   "execution_count": 10,
   "id": "9547d1b4",
   "metadata": {},
   "outputs": [
    {
     "data": {
      "text/plain": [
       "'0.1.5'"
      ]
     },
     "execution_count": 10,
     "metadata": {},
     "output_type": "execute_result"
    }
   ],
   "source": [
    "fvcore.__version__"
   ]
  },
  {
   "cell_type": "code",
   "execution_count": 2,
   "id": "5be06e3e",
   "metadata": {},
   "outputs": [],
   "source": [
    "from main import *"
   ]
  },
  {
   "cell_type": "code",
   "execution_count": 6,
   "id": "8e1e4346",
   "metadata": {},
   "outputs": [],
   "source": [
    "import fvcore"
   ]
  },
  {
   "cell_type": "code",
   "execution_count": null,
   "id": "5aa0758d",
   "metadata": {},
   "outputs": [],
   "source": [
    "TEST_INFO = {\n",
    "#    'PERSTA_Environmental,SocialandGovernanceReport2020.pdf':[21],\n",
    "#     '中信資源_2020ENVIRONMENTAL,SOCIALANDGOVERNANCEREPORT.pdf':[79,80,81,82],\n",
    "#     '中國海洋石油_2020Environmental,SocialandGovernanceReport.pdf':[47],\n",
    "#     '中國石油化工股份_2020SinopecCorp.SustainabilityReport.pdf':[43,44],\n",
    "#     '中國石油股份_2020ENVIRONMENTAL,SOCIALANDGOVERNANCEREPORT.pdf':[75],\n",
    "#     '中國神華_2020Environmental,ResponsibilityandGovernanceReport.pdf':[95,96,97],\n",
    "#     '中煤能源_ChinaCoalEnergyCSRReport2020.pdf':[25],\n",
    "#     '中石化煉化工程_2020Environmental,SocialandGovernanceReport.pdf':[26],\n",
    "#     '中能控股_Environmental,SocialandGovernanceReport2020.pdf':[33,34],\n",
    "     '元亨燃氣_Environmental,socialandgovernancereport2020_21.pdf':[17,18],\n",
    "#     '兗煤澳大利亞_ESGReport2020.pdf':[31,32],\n",
    "#     '兗礦能源_SocialResponsibilityReport2020OfYanzhouCoalMiningCompanyLimited.pdf':[72,73],\n",
    "#     '匯力資源_2020Environmental,SocialandGovernanceReport.pdf':[7,8,10],\n",
    "#     '南南資源_Environmental,SocialandGovernanceReport2020_21.pdf':[32],\n",
    "#     '安東油田服務_2020SUSTAINABILITYREPORT.pdf':[25],\n",
    "#     '山東墨龍_2020Environmental,SocialandGovernanceReport.pdf':[23],\n",
    "#     '巨濤海洋石油服務_Environmental,SocialandGovernanceReport2020.pdf':[19],\n",
    "#     '延長石油國際_ENVIRONMENTAL,SOCIALANDGOVERNANCEREPORT2020.pdf':[10,12,15,16],\n",
    "#     '新海能源_Environmental,SocialandGovernanceReportforYear2020.pdf':[38],\n",
    "#     '易大宗_Environmental,SocialandGovernanceReport2020.pdf':[33,34,35,36],\n",
    "#     '海隆控股_2020Environmental,SocialandGovernanceReport.pdf':[37,38,39,40,41],\n",
    "#     '西伯利亞礦業_Environmental,SocialandGovernanceReport2020.pdf':[4,5,6],\n",
    "#     '西伯利亞礦業_Environmental,SocialandGovernanceReport2021.pdf':[4,5,6],\n",
    "#     '金泰能源控股_Environmental,SocialandGovernanceReport2020.pdf':[6,7],\n",
    "#     '陽光油砂_2020Environmental,SocialandGovernanceReport.pdf':[8,9,10,11,13,14,15],\n",
    "#     '飛尚無煙煤_2020Environmental,SocialandGovernanceReport.pdf':[4,5],\n",
    "}"
   ]
  },
  {
   "cell_type": "code",
   "execution_count": 27,
   "id": "575ace03",
   "metadata": {},
   "outputs": [
    {
     "name": "stdout",
     "output_type": "stream",
     "text": [
      "START:  元亨燃氣_Environmental,socialandgovernancereport2020_21.pdf\n",
      "huggingface/tokenizers: The current process just got forked, after parallelism has already been used. Disabling parallelism to avoid deadlocks...\n",
      "To disable this warning, you can either:\n",
      "\t- Avoid using `tokenizers` before the fork if possible\n",
      "\t- Explicitly set the environment variable TOKENIZERS_PARALLELISM=(true | false)\n"
     ]
    },
    {
     "ename": "PDFPageCountError",
     "evalue": "Unable to get page count.\nI/O Error: Couldn't open file 'data/pdf/<e5><85><83><e4><ba><a8><e7><87><83><e6><b0><a3>_Environmental,socialandgovernancereport2020_21.pdf': Operation not permitted.\n",
     "output_type": "error",
     "traceback": [
      "\u001b[0;31m---------------------------------------------------------------------------\u001b[0m",
      "\u001b[0;31mValueError\u001b[0m                                Traceback (most recent call last)",
      "\u001b[0;32m/usr/local/lib/python3.9/site-packages/pdf2image/pdf2image.py\u001b[0m in \u001b[0;36mpdfinfo_from_path\u001b[0;34m(pdf_path, userpw, poppler_path, rawdates, timeout)\u001b[0m\n\u001b[1;32m    478\u001b[0m         \u001b[0;32mif\u001b[0m \u001b[0;34m\"Pages\"\u001b[0m \u001b[0;32mnot\u001b[0m \u001b[0;32min\u001b[0m \u001b[0md\u001b[0m\u001b[0;34m:\u001b[0m\u001b[0;34m\u001b[0m\u001b[0;34m\u001b[0m\u001b[0m\n\u001b[0;32m--> 479\u001b[0;31m             \u001b[0;32mraise\u001b[0m \u001b[0mValueError\u001b[0m\u001b[0;34m\u001b[0m\u001b[0;34m\u001b[0m\u001b[0m\n\u001b[0m\u001b[1;32m    480\u001b[0m \u001b[0;34m\u001b[0m\u001b[0m\n",
      "\u001b[0;31mValueError\u001b[0m: ",
      "\nDuring handling of the above exception, another exception occurred:\n",
      "\u001b[0;31mPDFPageCountError\u001b[0m                         Traceback (most recent call last)",
      "\u001b[0;32m/var/folders/bh/mzl5wlq93fz2y1rfk52d88q80000gn/T/ipykernel_82963/3944594941.py\u001b[0m in \u001b[0;36m<module>\u001b[0;34m\u001b[0m\n\u001b[1;32m     27\u001b[0m \u001b[0;31m#     '飛尚無煙煤_2020Environmental,SocialandGovernanceReport.pdf':[4,5],\u001b[0m\u001b[0;34m\u001b[0m\u001b[0;34m\u001b[0m\u001b[0m\n\u001b[1;32m     28\u001b[0m }\n\u001b[0;32m---> 29\u001b[0;31m \u001b[0mresults\u001b[0m \u001b[0;34m=\u001b[0m \u001b[0mmain_func\u001b[0m\u001b[0;34m(\u001b[0m\u001b[0mTEST_INFO\u001b[0m\u001b[0;34m)\u001b[0m\u001b[0;34m\u001b[0m\u001b[0;34m\u001b[0m\u001b[0m\n\u001b[0m",
      "\u001b[0;32m~/Documents/esg_demo/esg-analytics/general_table_extraction/detectron2/main.py\u001b[0m in \u001b[0;36mmain_func\u001b[0;34m(TEST_INFO)\u001b[0m\n",
      "\u001b[0;32m/usr/local/lib/python3.9/site-packages/pdf2image/pdf2image.py\u001b[0m in \u001b[0;36mconvert_from_path\u001b[0;34m(pdf_path, dpi, output_folder, first_page, last_page, fmt, jpegopt, thread_count, userpw, use_cropbox, strict, transparent, single_file, output_file, poppler_path, grayscale, size, paths_only, use_pdftocairo, timeout, hide_annotations)\u001b[0m\n\u001b[1;32m     96\u001b[0m         \u001b[0mpoppler_path\u001b[0m \u001b[0;34m=\u001b[0m \u001b[0mpoppler_path\u001b[0m\u001b[0;34m.\u001b[0m\u001b[0mas_posix\u001b[0m\u001b[0;34m(\u001b[0m\u001b[0;34m)\u001b[0m\u001b[0;34m\u001b[0m\u001b[0;34m\u001b[0m\u001b[0m\n\u001b[1;32m     97\u001b[0m \u001b[0;34m\u001b[0m\u001b[0m\n\u001b[0;32m---> 98\u001b[0;31m     \u001b[0mpage_count\u001b[0m \u001b[0;34m=\u001b[0m \u001b[0mpdfinfo_from_path\u001b[0m\u001b[0;34m(\u001b[0m\u001b[0mpdf_path\u001b[0m\u001b[0;34m,\u001b[0m \u001b[0muserpw\u001b[0m\u001b[0;34m,\u001b[0m \u001b[0mpoppler_path\u001b[0m\u001b[0;34m=\u001b[0m\u001b[0mpoppler_path\u001b[0m\u001b[0;34m)\u001b[0m\u001b[0;34m[\u001b[0m\u001b[0;34m\"Pages\"\u001b[0m\u001b[0;34m]\u001b[0m\u001b[0;34m\u001b[0m\u001b[0;34m\u001b[0m\u001b[0m\n\u001b[0m\u001b[1;32m     99\u001b[0m \u001b[0;34m\u001b[0m\u001b[0m\n\u001b[1;32m    100\u001b[0m     \u001b[0;31m# We start by getting the output format, the buffer processing function and if we need pdftocairo\u001b[0m\u001b[0;34m\u001b[0m\u001b[0;34m\u001b[0m\u001b[0m\n",
      "\u001b[0;32m/usr/local/lib/python3.9/site-packages/pdf2image/pdf2image.py\u001b[0m in \u001b[0;36mpdfinfo_from_path\u001b[0;34m(pdf_path, userpw, poppler_path, rawdates, timeout)\u001b[0m\n\u001b[1;32m    486\u001b[0m         )\n\u001b[1;32m    487\u001b[0m     \u001b[0;32mexcept\u001b[0m \u001b[0mValueError\u001b[0m\u001b[0;34m:\u001b[0m\u001b[0;34m\u001b[0m\u001b[0;34m\u001b[0m\u001b[0m\n\u001b[0;32m--> 488\u001b[0;31m         raise PDFPageCountError(\n\u001b[0m\u001b[1;32m    489\u001b[0m             \u001b[0;34m\"Unable to get page count.\\n%s\"\u001b[0m \u001b[0;34m%\u001b[0m \u001b[0merr\u001b[0m\u001b[0;34m.\u001b[0m\u001b[0mdecode\u001b[0m\u001b[0;34m(\u001b[0m\u001b[0;34m\"utf8\"\u001b[0m\u001b[0;34m,\u001b[0m \u001b[0;34m\"ignore\"\u001b[0m\u001b[0;34m)\u001b[0m\u001b[0;34m\u001b[0m\u001b[0;34m\u001b[0m\u001b[0m\n\u001b[1;32m    490\u001b[0m         )\n",
      "\u001b[0;31mPDFPageCountError\u001b[0m: Unable to get page count.\nI/O Error: Couldn't open file 'data/pdf/<e5><85><83><e4><ba><a8><e7><87><83><e6><b0><a3>_Environmental,socialandgovernancereport2020_21.pdf': Operation not permitted.\n"
     ]
    }
   ],
   "source": [
    "\n",
    "for filename, page_numbers in T\n",
    "results = main_func(TEST_INFO)"
   ]
  },
  {
   "cell_type": "code",
   "execution_count": 4,
   "id": "8db753a4",
   "metadata": {},
   "outputs": [
    {
     "data": {
      "text/plain": [
       "44"
      ]
     },
     "execution_count": 4,
     "metadata": {},
     "output_type": "execute_result"
    }
   ],
   "source": [
    "len(results)"
   ]
  },
  {
   "cell_type": "code",
   "execution_count": 5,
   "id": "5ca50e02",
   "metadata": {
    "scrolled": false
   },
   "outputs": [
    {
     "data": {
      "text/plain": [
       "[{'position': '中國石油化工股份_2020SinopecCorp.SustainabilityReport.pdf',\n",
       "  'company_name': '中國石油化工股份',\n",
       "  'raw_metrics': 'GHGs emission (million tonnes CO2- equivalent ) 1',\n",
       "  'metrics': 'Carbon dioxide (CO2)',\n",
       "  'similar_score': 0.4860534071922302,\n",
       "  'year': '2020',\n",
       "  'value': '170.94'},\n",
       " {'position': '中國石油化工股份_2020SinopecCorp.SustainabilityReport.pdf',\n",
       "  'company_name': '中國石油化工股份',\n",
       "  'raw_metrics': 'Direct GHGs emission',\n",
       "  'metrics': 'Scope 1 Intensity (per ton of coal produced)',\n",
       "  'similar_score': 0.3875616788864136,\n",
       "  'year': '2020',\n",
       "  'value': '128.58'},\n",
       " {'position': '中國石油化工股份_2020SinopecCorp.SustainabilityReport.pdf',\n",
       "  'company_name': '中國石油化工股份',\n",
       "  'raw_metrics': 'Indirect GHGs emission',\n",
       "  'metrics': 'Total non-hazardous waste Intensity',\n",
       "  'similar_score': 0.3755683898925781,\n",
       "  'year': '2020',\n",
       "  'value': '42.36'},\n",
       " {'position': '中國石油化工股份_2020SinopecCorp.SustainabilityReport.pdf',\n",
       "  'company_name': '中國石油化工股份',\n",
       "  'raw_metrics': 'Oil & gas exploration and production segment',\n",
       "  'metrics': 'Scope 1 Intensity (per ton of coal produced)',\n",
       "  'similar_score': 0.27923861145973206,\n",
       "  'year': '2020',\n",
       "  'value': '24.42'},\n",
       " {'position': '中國石油化工股份_2020SinopecCorp.SustainabilityReport.pdf',\n",
       "  'company_name': '中國石油化工股份',\n",
       "  'raw_metrics': 'Reﬁning and chemicals segment',\n",
       "  'metrics': 'Methane (CH4)',\n",
       "  'similar_score': 0.3822934627532959,\n",
       "  'year': '2020',\n",
       "  'value': '144.32'},\n",
       " {'position': '中國石油化工股份_2020SinopecCorp.SustainabilityReport.pdf',\n",
       "  'company_name': '中國石油化工股份',\n",
       "  'raw_metrics': 'Marketing segment',\n",
       "  'metrics': 'Scope 1 Total',\n",
       "  'similar_score': 0.2115267515182495,\n",
       "  'year': '2020',\n",
       "  'value': '2.20'},\n",
       " {'position': '中國石油化工股份_2020SinopecCorp.SustainabilityReport.pdf',\n",
       "  'company_name': '中國石油化工股份',\n",
       "  'raw_metrics': 'GHGs emission intensity (tonnes CO2-equivalent / RMB1 million) 2',\n",
       "  'metrics': 'Carbon dioxide (CO2)',\n",
       "  'similar_score': 0.475563645362854,\n",
       "  'year': '2020',\n",
       "  'value': '81.17'},\n",
       " {'position': '中國石油化工股份_2020SinopecCorp.SustainabilityReport.pdf',\n",
       "  'company_name': '中國石油化工股份',\n",
       "  'raw_metrics': 'CO2 capture (thousand tonnes)',\n",
       "  'metrics': 'Carbon dioxide (CO2)',\n",
       "  'similar_score': 0.6195009350776672,\n",
       "  'year': '2020',\n",
       "  'value': '1,290'},\n",
       " {'position': '中國石油化工股份_2020SinopecCorp.SustainabilityReport.pdf',\n",
       "  'company_name': '中國石油化工股份',\n",
       "  'raw_metrics': 'Methane recovery (million cubic metres)',\n",
       "  'metrics': 'Methane (CH4)',\n",
       "  'similar_score': 0.5751643180847168,\n",
       "  'year': '2020',\n",
       "  'value': '600'},\n",
       " {'position': '中國石油化工股份_2020SinopecCorp.SustainabilityReport.pdf',\n",
       "  'company_name': '中國石油化工股份',\n",
       "  'raw_metrics': 'Methane emission (million cubic metres)',\n",
       "  'metrics': 'Methane (CH4)',\n",
       "  'similar_score': 0.5965386629104614,\n",
       "  'year': '2020',\n",
       "  'value': '283.56'},\n",
       " {'position': '中國石油化工股份_2020SinopecCorp.SustainabilityReport.pdf',\n",
       "  'company_name': '中國石油化工股份',\n",
       "  'raw_metrics': 'Oil & gas exploration and production segment',\n",
       "  'metrics': 'Scope 1 Total',\n",
       "  'similar_score': 0.2115268111228943,\n",
       "  'year': '2020',\n",
       "  'value': '245.98'},\n",
       " {'position': '中國石油化工股份_2020SinopecCorp.SustainabilityReport.pdf',\n",
       "  'company_name': '中國石油化工股份',\n",
       "  'raw_metrics': 'Reﬁning and chemicals segment',\n",
       "  'metrics': 'Methane (CH4)',\n",
       "  'similar_score': 0.3822934329509735,\n",
       "  'year': '2020',\n",
       "  'value': '23.75'},\n",
       " {'position': '中國石油化工股份_2020SinopecCorp.SustainabilityReport.pdf',\n",
       "  'company_name': '中國石油化工股份',\n",
       "  'raw_metrics': 'Marketing segment',\n",
       "  'metrics': 'Scope 1 Intensity (per ton of coal produced)',\n",
       "  'similar_score': 0.2792387008666992,\n",
       "  'year': '2020',\n",
       "  'value': '13.83'},\n",
       " {'position': '中國石油化工股份_2020SinopecCorp.SustainabilityReport.pdf',\n",
       "  'company_name': '中國石油化工股份',\n",
       "  'raw_metrics': 'Total number of employees',\n",
       "  'metrics': 'Scope 1 Total',\n",
       "  'similar_score': 0.30548229813575745,\n",
       "  'year': '2020',\n",
       "  'value': '384,065'},\n",
       " {'position': '中國石油化工股份_2020SinopecCorp.SustainabilityReport.pdf',\n",
       "  'company_name': '中國石油化工股份',\n",
       "  'raw_metrics': 'Male employees',\n",
       "  'metrics': 'SOx',\n",
       "  'similar_score': 0.18406449258327484,\n",
       "  'year': '2020',\n",
       "  'value': '257,053'},\n",
       " {'position': '中國石油化工股份_2020SinopecCorp.SustainabilityReport.pdf',\n",
       "  'company_name': '中國石油化工股份',\n",
       "  'raw_metrics': 'Female employees',\n",
       "  'metrics': 'SOx',\n",
       "  'similar_score': 0.19507814943790436,\n",
       "  'year': '2020',\n",
       "  'value': '127,012'},\n",
       " {'position': '中國石油化工股份_2020SinopecCorp.SustainabilityReport.pdf',\n",
       "  'company_name': '中國石油化工股份',\n",
       "  'raw_metrics': 'Percentage of female employees (%)',\n",
       "  'metrics': 'Total hazardous waste Intensity',\n",
       "  'similar_score': 0.159551203250885,\n",
       "  'year': '2020',\n",
       "  'value': '33.1'},\n",
       " {'position': '中國石油化工股份_2020SinopecCorp.SustainabilityReport.pdf',\n",
       "  'company_name': '中國石油化工股份',\n",
       "  'raw_metrics': 'Employees below 30 years of age',\n",
       "  'metrics': 'Total non-hazardous waste Intensity',\n",
       "  'similar_score': 0.09820724278688431,\n",
       "  'year': '2020',\n",
       "  'value': '40,076'},\n",
       " {'position': '中國石油化工股份_2020SinopecCorp.SustainabilityReport.pdf',\n",
       "  'company_name': '中國石油化工股份',\n",
       "  'raw_metrics': 'Employees between 31 and 50 years of age',\n",
       "  'metrics': 'Scope 1 Total',\n",
       "  'similar_score': 0.09911064803600311,\n",
       "  'year': '2020',\n",
       "  'value': '254,948'},\n",
       " {'position': '中國石油化工股份_2020SinopecCorp.SustainabilityReport.pdf',\n",
       "  'company_name': '中國石油化工股份',\n",
       "  'raw_metrics': 'Employees over 51 years of age',\n",
       "  'metrics': 'SOx',\n",
       "  'similar_score': 0.10287132114171982,\n",
       "  'year': '2020',\n",
       "  'value': '89,041'},\n",
       " {'position': '中國石油化工股份_2020SinopecCorp.SustainabilityReport.pdf',\n",
       "  'company_name': '中國石油化工股份',\n",
       "  'raw_metrics': 'Employees newly hired during reporting period',\n",
       "  'metrics': 'Scope 1 Total',\n",
       "  'similar_score': 0.17182472348213196,\n",
       "  'year': '2020',\n",
       "  'value': '16,011'},\n",
       " {'position': '中國石油化工股份_2020SinopecCorp.SustainabilityReport.pdf',\n",
       "  'company_name': '中國石油化工股份',\n",
       "  'raw_metrics': 'Employees turnover during reporting period',\n",
       "  'metrics': 'Total non-hazardous waste Intensity',\n",
       "  'similar_score': 0.12138436734676361,\n",
       "  'year': '2020',\n",
       "  'value': '13,963'},\n",
       " {'position': '中國石油化工股份_2020SinopecCorp.SustainabilityReport.pdf',\n",
       "  'company_name': '中國石油化工股份',\n",
       "  'raw_metrics': 'Employee turnover rate (%)',\n",
       "  'metrics': 'Total hazardous waste Intensity',\n",
       "  'similar_score': 0.1929166316986084,\n",
       "  'year': '2020',\n",
       "  'value': '0.69'},\n",
       " {'position': '中國石油化工股份_2020SinopecCorp.SustainabilityReport.pdf',\n",
       "  'company_name': '中國石油化工股份',\n",
       "  'raw_metrics': 'Turnover rate of employees below 30 years of age (%)',\n",
       "  'metrics': 'Total non-hazardous waste Intensity',\n",
       "  'similar_score': 0.14818193018436432,\n",
       "  'year': '2020',\n",
       "  'value': '1.5'},\n",
       " {'position': '中國石油化工股份_2020SinopecCorp.SustainabilityReport.pdf',\n",
       "  'company_name': '中國石油化工股份',\n",
       "  'raw_metrics': 'Turnover rate of employees between 31 and 50 years of age (%)',\n",
       "  'metrics': 'Total hazardous waste Intensity',\n",
       "  'similar_score': 0.12264497578144073,\n",
       "  'year': '2020',\n",
       "  'value': '0.5'},\n",
       " {'position': '中國石油化工股份_2020SinopecCorp.SustainabilityReport.pdf',\n",
       "  'company_name': '中國石油化工股份',\n",
       "  'raw_metrics': 'Turnover rate of employees over 51 years of age (%)',\n",
       "  'metrics': 'Scope 1 Total',\n",
       "  'similar_score': 0.15491639077663422,\n",
       "  'year': '2020',\n",
       "  'value': '0.3'},\n",
       " {'position': '中國石油化工股份_2020SinopecCorp.SustainabilityReport.pdf',\n",
       "  'company_name': '中國石油化工股份',\n",
       "  'raw_metrics': 'Percentage of female employees in management (%)',\n",
       "  'metrics': 'Scope 1 Total',\n",
       "  'similar_score': 0.15813885629177094,\n",
       "  'year': '2020',\n",
       "  'value': '12.59'},\n",
       " {'position': '中國石油化工股份_2020SinopecCorp.SustainabilityReport.pdf',\n",
       "  'company_name': '中國石油化工股份',\n",
       "  'raw_metrics': 'Collective contract coverage (%)',\n",
       "  'metrics': 'Scope 1 Total',\n",
       "  'similar_score': 0.2446201890707016,\n",
       "  'year': '2020',\n",
       "  'value': '100'},\n",
       " {'position': '中國石油化工股份_2020SinopecCorp.SustainabilityReport.pdf',\n",
       "  'company_name': '中國石油化工股份',\n",
       "  'raw_metrics': 'Social insurance coverage (%)',\n",
       "  'metrics': 'Scope 1 Total',\n",
       "  'similar_score': 0.09787379205226898,\n",
       "  'year': '2020',\n",
       "  'value': '100'},\n",
       " {'position': '中國石油化工股份_2020SinopecCorp.SustainabilityReport.pdf',\n",
       "  'company_name': '中國石油化工股份',\n",
       "  'raw_metrics': 'Enterprise annuity coverage (%)',\n",
       "  'metrics': 'Scope 1 Total',\n",
       "  'similar_score': 0.1845877468585968,\n",
       "  'year': '2020',\n",
       "  'value': '80.59'},\n",
       " {'position': '中國石油化工股份_2020SinopecCorp.SustainabilityReport.pdf',\n",
       "  'company_name': '中國石油化工股份',\n",
       "  'raw_metrics': 'Percentage of ethnic minority employees(%)',\n",
       "  'metrics': 'Total hazardous waste Intensity',\n",
       "  'similar_score': 0.13411939144134521,\n",
       "  'year': '2020',\n",
       "  'value': '3.8'},\n",
       " {'position': '中國石油化工股份_2020SinopecCorp.SustainabilityReport.pdf',\n",
       "  'company_name': '中國石油化工股份',\n",
       "  'raw_metrics': 'Percentage of employees with labour union membership (%)',\n",
       "  'metrics': 'Scope 1 Total',\n",
       "  'similar_score': 0.15231677889823914,\n",
       "  'year': '2020',\n",
       "  'value': '100'},\n",
       " {'position': '中國石油化工股份_2020SinopecCorp.SustainabilityReport.pdf',\n",
       "  'company_name': '中國石油化工股份',\n",
       "  'raw_metrics': 'Consumption of comprehensive energy per RMB10,000 of production value \\n(tonne of standard coal)',\n",
       "  'metrics': 'Scope 1 Intensity (per ton of coal produced)',\n",
       "  'similar_score': 0.5166524648666382,\n",
       "  'year': '2020',\n",
       "  'value': '0.490'},\n",
       " {'position': '中國石油化工股份_2020SinopecCorp.SustainabilityReport.pdf',\n",
       "  'company_name': '中國石油化工股份',\n",
       "  'raw_metrics': 'Consumption of crude oil (million tonnes)',\n",
       "  'metrics': 'Scope 1 Intensity (per ton of coal produced)',\n",
       "  'similar_score': 0.3200901746749878,\n",
       "  'year': '2020',\n",
       "  'value': '1.07'},\n",
       " {'position': '中國石油化工股份_2020SinopecCorp.SustainabilityReport.pdf',\n",
       "  'company_name': '中國石油化工股份',\n",
       "  'raw_metrics': 'Consumption of natural gas (billion cubic metres)',\n",
       "  'metrics': 'Scope 1 Intensity (per ton of coal produced)',\n",
       "  'similar_score': 0.3266444206237793,\n",
       "  'year': '2020',\n",
       "  'value': '3.78'},\n",
       " {'position': '中國石油化工股份_2020SinopecCorp.SustainabilityReport.pdf',\n",
       "  'company_name': '中國石油化工股份',\n",
       "  'raw_metrics': 'Consumption of purchased electricity (billion kWh)',\n",
       "  'metrics': 'Total non-hazardous waste',\n",
       "  'similar_score': 0.17491942644119263,\n",
       "  'year': '2020',\n",
       "  'value': '30.83'},\n",
       " {'position': '中國石油化工股份_2020SinopecCorp.SustainabilityReport.pdf',\n",
       "  'company_name': '中國石油化工股份',\n",
       "  'raw_metrics': 'Consumption of coal (million tonnes)',\n",
       "  'metrics': 'Scope 1 Intensity (per ton of coal produced)',\n",
       "  'similar_score': 0.5310433506965637,\n",
       "  'year': '2020',\n",
       "  'value': '15.00'},\n",
       " {'position': '中國石油化工股份_2020SinopecCorp.SustainabilityReport.pdf',\n",
       "  'company_name': '中國石油化工股份',\n",
       "  'raw_metrics': 'Fresh water withdrawal for industrial use (million cubic metres)',\n",
       "  'metrics': 'Total non-hazardous waste Intensity',\n",
       "  'similar_score': 0.2870408892631531,\n",
       "  'year': '2020',\n",
       "  'value': '643.20'},\n",
       " {'position': '中國石油化工股份_2020SinopecCorp.SustainabilityReport.pdf',\n",
       "  'company_name': '中國石油化工股份',\n",
       "  'raw_metrics': 'Sulphur dioxide (thousand tonnes)',\n",
       "  'metrics': 'sulphur hexafluoride',\n",
       "  'similar_score': 0.5030758380889893,\n",
       "  'year': '2020',\n",
       "  'value': '61.9'},\n",
       " {'position': '中國石油化工股份_2020SinopecCorp.SustainabilityReport.pdf',\n",
       "  'company_name': '中國石油化工股份',\n",
       "  'raw_metrics': 'Nitrogen oxides (thousand tonnes)',\n",
       "  'metrics': 'Nitrous oxide (N2O)',\n",
       "  'similar_score': 0.6127842664718628,\n",
       "  'year': '2020',\n",
       "  'value': '92.0'},\n",
       " {'position': '中國石油化工股份_2020SinopecCorp.SustainabilityReport.pdf',\n",
       "  'company_name': '中國石油化工股份',\n",
       "  'raw_metrics': 'COD (thousand tonnes)',\n",
       "  'metrics': 'Total hazardous waste',\n",
       "  'similar_score': 0.3208956718444824,\n",
       "  'year': '2020',\n",
       "  'value': '18.6'},\n",
       " {'position': '中國石油化工股份_2020SinopecCorp.SustainabilityReport.pdf',\n",
       "  'company_name': '中國石油化工股份',\n",
       "  'raw_metrics': 'Ammonia and nitrogen (thousand tonnes)',\n",
       "  'metrics': 'Methane (CH4)',\n",
       "  'similar_score': 0.4188193678855896,\n",
       "  'year': '2020',\n",
       "  'value': '1.92'},\n",
       " {'position': '中國石油化工股份_2020SinopecCorp.SustainabilityReport.pdf',\n",
       "  'company_name': '中國石油化工股份',\n",
       "  'raw_metrics': 'Non-hazardous waste (thousand tonnes) 1',\n",
       "  'metrics': 'Total non-hazardous waste',\n",
       "  'similar_score': 0.7905797958374023,\n",
       "  'year': '2020',\n",
       "  'value': '1,710.8'},\n",
       " {'position': '中國石油化工股份_2020SinopecCorp.SustainabilityReport.pdf',\n",
       "  'company_name': '中國石油化工股份',\n",
       "  'raw_metrics': 'Weight of disposed hazardous waste (thousand tonnes) 2',\n",
       "  'metrics': 'Total hazardous waste',\n",
       "  'similar_score': 0.6732461452484131,\n",
       "  'year': '2020',\n",
       "  'value': '731.1'}]"
      ]
     },
     "execution_count": 5,
     "metadata": {},
     "output_type": "execute_result"
    }
   ],
   "source": [
    "results"
   ]
  },
  {
   "cell_type": "code",
   "execution_count": null,
   "id": "cb7c4339",
   "metadata": {},
   "outputs": [],
   "source": []
  }
 ],
 "metadata": {
  "kernelspec": {
   "display_name": "Python 3 (ipykernel)",
   "language": "python",
   "name": "python3"
  },
  "language_info": {
   "codemirror_mode": {
    "name": "ipython",
    "version": 3
   },
   "file_extension": ".py",
   "mimetype": "text/x-python",
   "name": "python",
   "nbconvert_exporter": "python",
   "pygments_lexer": "ipython3",
   "version": "3.9.7"
  }
 },
 "nbformat": 4,
 "nbformat_minor": 5
}
